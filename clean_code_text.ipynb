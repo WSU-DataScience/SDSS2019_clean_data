{
 "cells": [
  {
   "cell_type": "markdown",
   "metadata": {},
   "source": [
    "# Small example - Second Attempt\n",
    "\n",
    "Process this time\n",
    "\n",
    "1. Rename variables to capture intent\n",
    "2. Extract functions and select good names\n",
    "3. Use split loop to remove repeated code"
   ]
  },
  {
   "cell_type": "code",
   "execution_count": 2,
   "metadata": {},
   "outputs": [],
   "source": [
    "import re\n",
    "from string import punctuation as punc"
   ]
  },
  {
   "cell_type": "code",
   "execution_count": 3,
   "metadata": {},
   "outputs": [],
   "source": [
    "from csv import reader\n",
    "import re\n",
    "import string\n",
    "from string import punctuation as punc"
   ]
  },
  {
   "cell_type": "code",
   "execution_count": 4,
   "metadata": {},
   "outputs": [],
   "source": [
    "def read_data():\n",
    "    with open('./data/spooky-author-identification/train.csv') as f:\n",
    "        c = reader(f)\n",
    "        h = next(c)\n",
    "        return [r for r in c]"
   ]
  },
  {
   "cell_type": "code",
   "execution_count": 6,
   "metadata": {},
   "outputs": [],
   "source": [
    "# Get the Kaggle data and put it in a data folder\n",
    "#rows = read_data()"
   ]
  },
  {
   "cell_type": "markdown",
   "metadata": {},
   "source": [
    "## Original Code"
   ]
  },
  {
   "cell_type": "code",
   "execution_count": 11,
   "metadata": {},
   "outputs": [],
   "source": [
    "p = '[{0}]'.format(re.escape(punc))\n",
    "ews, mws, hws = {}, {}, {}\n",
    "for i, t, a in rows:\n",
    "    t = re.sub('-', ' ', t)\n",
    "    t = re.sub(p, ' ', t)\n",
    "    ws = t.lower().split()\n",
    "    if a == 'EAP':\n",
    "        for w in ws:\n",
    "            ews[w] = ews.get(w, 0) + 1\n",
    "    elif a == 'MWS':\n",
    "        for w in ws:\n",
    "            mws[w] = mws.get(w, 0) + 1\n",
    "    else:\n",
    "        for w in ws:\n",
    "            hws[w] = hws.get(w, 0) + 1"
   ]
  },
  {
   "cell_type": "markdown",
   "metadata": {},
   "source": [
    "#### Package as function"
   ]
  },
  {
   "cell_type": "code",
   "execution_count": 32,
   "metadata": {},
   "outputs": [],
   "source": [
    "def main(rows):\n",
    "    p = '[{0}]'.format(re.escape(punc))\n",
    "    ews, mws, hws = {}, {}, {}\n",
    "    for i, t, a in rows:\n",
    "        t = re.sub('-', ' ', t)\n",
    "        t = re.sub(p, '', t)\n",
    "        ws = t.lower().split()\n",
    "        if a == 'EAP':\n",
    "            for w in ws:\n",
    "                ews[w] = ews.get(w, 0) + 1\n",
    "        elif a == 'MWS':\n",
    "            for w in ws:\n",
    "                mws[w] = mws.get(w, 0) + 1\n",
    "        else:\n",
    "            for w in ws:\n",
    "                hws[w] = hws.get(w, 0) + 1\n",
    "    return ews, mws, hws"
   ]
  },
  {
   "cell_type": "code",
   "execution_count": 21,
   "metadata": {},
   "outputs": [],
   "source": [
    "def original_main(rows):\n",
    "    p = '[{0}]'.format(re.escape(punc))\n",
    "    ews, mws, hws = {}, {}, {}\n",
    "    for i, t, a in rows:\n",
    "        t = re.sub('-', ' ', t)\n",
    "        t = re.sub(p, '', t)\n",
    "        ws = t.lower().split()\n",
    "        if a == 'EAP':\n",
    "            for w in ws:\n",
    "                ews[w] = ews.get(w, 0) + 1\n",
    "        elif a == 'MWS':\n",
    "            for w in ws:\n",
    "                mws[w] = mws.get(w, 0) + 1\n",
    "        else:\n",
    "            for w in ws:\n",
    "                hws[w] = hws.get(w, 0) + 1\n",
    "    return ews, mws, hws"
   ]
  },
  {
   "cell_type": "markdown",
   "metadata": {},
   "source": [
    "#### Write tests that capture current current behavior"
   ]
  },
  {
   "cell_type": "code",
   "execution_count": 33,
   "metadata": {},
   "outputs": [],
   "source": [
    "example_rows = [('1', 'The dog is super-large.', 'HPL'),\n",
    "                ('2', \"The cat's cute, but the cat's mean.\", 'MWS'),\n",
    "                ('3', '\"No pets!\"', 'EAP')\n",
    "               ]\n",
    "example_output = {'EAP':{'no':1, 'pets':1},\n",
    "                  'MWS':{'the':2, 'cats':2, 'cute':1, 'but':1, 'mean':1},\n",
    "                  'HPL':{'the':1, 'dog':1, 'is':1, 'super':1, 'large':1}}"
   ]
  },
  {
   "cell_type": "code",
   "execution_count": 87,
   "metadata": {},
   "outputs": [],
   "source": [
    "def test_main():\n",
    "    ews, mws, hws = main(example_rows)\n",
    "    assert ews == example_output['EAP']\n",
    "    assert mws == example_output['MWS']\n",
    "    assert hws == example_output['HPL']"
   ]
  },
  {
   "cell_type": "code",
   "execution_count": 88,
   "metadata": {},
   "outputs": [
    {
     "name": "stdout",
     "output_type": "stream",
     "text": [
      "[('HPL', 'the'), ('HPL', 'dog'), ('HPL', 'is'), ('HPL', 'super'), ('HPL', 'large'), ('MWS', 'the'), ('MWS', 'cats'), ('MWS', 'cute'), ('MWS', 'but'), ('MWS', 'the'), ('MWS', 'cats'), ('MWS', 'mean'), ('EAP', 'no'), ('EAP', 'pets')]\n"
     ]
    }
   ],
   "source": [
    "test_main()"
   ]
  },
  {
   "cell_type": "code",
   "execution_count": 25,
   "metadata": {
    "scrolled": true
   },
   "outputs": [
    {
     "name": "stdout",
     "output_type": "stream",
     "text": [
      "328 ms ± 14.4 ms per loop (mean ± std. dev. of 7 runs, 1 loop each)\n"
     ]
    }
   ],
   "source": [
    "%timeit original_main(rows)"
   ]
  },
  {
   "cell_type": "markdown",
   "metadata": {},
   "source": [
    "#### Rename variables to capture intent\n",
    "\n",
    "* p -> punc_pattern\n",
    "* ews, mws, hws -> poe_words, shelley_words, lovecraft_words\n",
    "* i, t, a -> id, text, author\n",
    "* ws -> words"
   ]
  },
  {
   "cell_type": "code",
   "execution_count": 51,
   "metadata": {},
   "outputs": [],
   "source": [
    "def main(rows):\n",
    "    punc_pat = '[{0}]'.format(re.escape(punc))\n",
    "    poe_words, shelley_words, lovecraft_words = {}, {}, {}\n",
    "    for id, text, author in rows:\n",
    "        t = re.sub('-', ' ', text)\n",
    "        t = re.sub(punc_pat, '', t)\n",
    "        words = t.lower().split()\n",
    "        if a == 'EAP':\n",
    "            for w in words:\n",
    "                poe_words[w] = poe_words.get(w, 0) + 1\n",
    "        elif a == 'MWS':\n",
    "            for w in words:\n",
    "                shelley_words[w] = shelley_words.get(w, 0) + 1\n",
    "        else:\n",
    "            for w in words:\n",
    "                lovecraft_words[w] = lovecraft_words.get(w, 0) + 1\n",
    "    return poe_words, shelley_words, lovecraft_words"
   ]
  },
  {
   "cell_type": "code",
   "execution_count": 52,
   "metadata": {
    "scrolled": true
   },
   "outputs": [
    {
     "ename": "AssertionError",
     "evalue": "",
     "output_type": "error",
     "traceback": [
      "\u001b[0;31m---------------------------------------------------------------------------\u001b[0m",
      "\u001b[0;31mAssertionError\u001b[0m                            Traceback (most recent call last)",
      "\u001b[0;32m<ipython-input-52-cbe5f4654325>\u001b[0m in \u001b[0;36m<module>\u001b[0;34m()\u001b[0m\n\u001b[0;32m----> 1\u001b[0;31m \u001b[0mtest_main\u001b[0m\u001b[0;34m(\u001b[0m\u001b[0;34m)\u001b[0m\u001b[0;34m\u001b[0m\u001b[0;34m\u001b[0m\u001b[0m\n\u001b[0m",
      "\u001b[0;32m<ipython-input-49-caf73035cf6a>\u001b[0m in \u001b[0;36mtest_main\u001b[0;34m()\u001b[0m\n\u001b[1;32m      1\u001b[0m \u001b[0;32mdef\u001b[0m \u001b[0mtest_main\u001b[0m\u001b[0;34m(\u001b[0m\u001b[0;34m)\u001b[0m\u001b[0;34m:\u001b[0m\u001b[0;34m\u001b[0m\u001b[0;34m\u001b[0m\u001b[0m\n\u001b[1;32m      2\u001b[0m     \u001b[0mews\u001b[0m\u001b[0;34m,\u001b[0m \u001b[0mmws\u001b[0m\u001b[0;34m,\u001b[0m \u001b[0mhws\u001b[0m \u001b[0;34m=\u001b[0m \u001b[0mmain\u001b[0m\u001b[0;34m(\u001b[0m\u001b[0mexample_rows\u001b[0m\u001b[0;34m)\u001b[0m\u001b[0;34m\u001b[0m\u001b[0;34m\u001b[0m\u001b[0m\n\u001b[0;32m----> 3\u001b[0;31m     \u001b[0;32massert\u001b[0m \u001b[0mews\u001b[0m \u001b[0;34m==\u001b[0m \u001b[0mexample_output\u001b[0m\u001b[0;34m[\u001b[0m\u001b[0;34m'EAP'\u001b[0m\u001b[0;34m]\u001b[0m\u001b[0;34m\u001b[0m\u001b[0;34m\u001b[0m\u001b[0m\n\u001b[0m\u001b[1;32m      4\u001b[0m     \u001b[0;32massert\u001b[0m \u001b[0mmws\u001b[0m \u001b[0;34m==\u001b[0m \u001b[0mexample_output\u001b[0m\u001b[0;34m[\u001b[0m\u001b[0;34m'MWS'\u001b[0m\u001b[0;34m]\u001b[0m\u001b[0;34m\u001b[0m\u001b[0;34m\u001b[0m\u001b[0m\n\u001b[1;32m      5\u001b[0m     \u001b[0;32massert\u001b[0m \u001b[0mhws\u001b[0m \u001b[0;34m==\u001b[0m \u001b[0mexample_output\u001b[0m\u001b[0;34m[\u001b[0m\u001b[0;34m'HPL'\u001b[0m\u001b[0;34m]\u001b[0m\u001b[0;34m\u001b[0m\u001b[0;34m\u001b[0m\u001b[0m\n",
      "\u001b[0;31mAssertionError\u001b[0m: "
     ]
    }
   ],
   "source": [
    "test_main()"
   ]
  },
  {
   "cell_type": "code",
   "execution_count": 53,
   "metadata": {},
   "outputs": [],
   "source": [
    "def main(rows):\n",
    "    punc_pat = '[{0}]'.format(re.escape(punc))\n",
    "    poe_words, shelley_words, lovecraft_words = {}, {}, {}\n",
    "    for id, text, author in rows:\n",
    "        t = re.sub('-', ' ', text)\n",
    "        t = re.sub(punc_pat, '', t)\n",
    "        words = t.lower().split()\n",
    "        if author == 'EAP':\n",
    "            for w in words:\n",
    "                poe_words[w] = poe_words.get(w, 0) + 1\n",
    "        elif author == 'MWS':\n",
    "            for w in words:\n",
    "                shelley_words[w] = shelley_words.get(w, 0) + 1\n",
    "        else:\n",
    "            for w in words:\n",
    "                lovecraft_words[w] = lovecraft_words.get(w, 0) + 1\n",
    "    return poe_words, shelley_words, lovecraft_words"
   ]
  },
  {
   "cell_type": "code",
   "execution_count": 54,
   "metadata": {},
   "outputs": [],
   "source": [
    "test_main()"
   ]
  },
  {
   "cell_type": "markdown",
   "metadata": {},
   "source": [
    "#### Replace condition with guard clause and replace temp with query"
   ]
  },
  {
   "cell_type": "code",
   "execution_count": 61,
   "metadata": {},
   "outputs": [],
   "source": [
    "def clean_and_split(text):\n",
    "    other_punc = '[{0}]'.format(re.escape(punc))\n",
    "    replace_hypthen = lambda t: re.sub('-', ' ', t)\n",
    "    remove_punc = lambda t: re.sub(other_punc, '', t)\n",
    "    t = replace_hypthen(text)\n",
    "    return remove_punc(t).lower().split()\n",
    "\n",
    "def main(rows):\n",
    "    poe_words, shelley_words, lovecraft_words = {}, {}, {}\n",
    "    for id, text, author in rows:\n",
    "        words = clean_and_split(text)\n",
    "        if author == 'EAP':\n",
    "            for w in words:\n",
    "                poe_words[w] = poe_words.get(w, 0) + 1\n",
    "        elif author == 'MWS':\n",
    "            for w in words:\n",
    "                shelley_words[w] = shelley_words.get(w, 0) + 1\n",
    "        else:\n",
    "            for w in words:\n",
    "                lovecraft_words[w] = lovecraft_words.get(w, 0) + 1\n",
    "    return poe_words, shelley_words, lovecraft_words"
   ]
  },
  {
   "cell_type": "code",
   "execution_count": 61,
   "metadata": {},
   "outputs": [],
   "source": [
    "def clean_and_split(text):\n",
    "    other_punc = '[{0}]'.format(re.escape(punc))\n",
    "    replace_hypthen = lambda t: re.sub('-', ' ', t)\n",
    "    remove_punc = lambda t: re.sub(other_punc, '', t)\n",
    "    t = replace_hypthen(text)\n",
    "    return remove_punc(t).lower().split()\n",
    "\n",
    "def main(rows):\n",
    "    poe_words, shelley_words, lovecraft_words = {}, {}, {}\n",
    "    for id, text, author in rows:\n",
    "        if author == 'EAP':\n",
    "            for w in clean_and_split(text):\n",
    "                poe_words[w] = poe_words.get(w, 0) + 1\n",
    "        if author == 'MWS':\n",
    "            for w in clean_and_split(text):\n",
    "                shelley_words[w] = shelley_words.get(w, 0) + 1\n",
    "        if author == 'HPL':\n",
    "            for w in clean_and_split(text):\n",
    "                lovecraft_words[w] = lovecraft_words.get(w, 0) + 1\n",
    "    return poe_words, shelley_words, lovecraft_words"
   ]
  },
  {
   "cell_type": "code",
   "execution_count": 62,
   "metadata": {},
   "outputs": [],
   "source": [
    "test_main()"
   ]
  },
  {
   "cell_type": "markdown",
   "metadata": {},
   "source": [
    "#### Split loop"
   ]
  },
  {
   "cell_type": "code",
   "execution_count": 65,
   "metadata": {},
   "outputs": [],
   "source": [
    "def clean_and_split(text):\n",
    "    other_punc = '[{0}]'.format(re.escape(punc))\n",
    "    replace_hypthen = lambda t: re.sub('-', ' ', t)\n",
    "    remove_punc = lambda t: re.sub(other_punc, '', t)\n",
    "    t = replace_hypthen(text)\n",
    "    return remove_punc(t).lower().split()\n",
    "\n",
    "def main(rows):\n",
    "    poe_words = {}\n",
    "    for id, text, author in rows:\n",
    "        if author == 'EAP':\n",
    "            for w in clean_and_split(text):\n",
    "                poe_words[w] = poe_words.get(w, 0) + 1\n",
    "    shelley_words = {}\n",
    "    for id, text, author in rows:\n",
    "        if author == 'MWS':\n",
    "            for w in clean_and_split(text):\n",
    "                shelley_words[w] = shelley_words.get(w, 0) + 1\n",
    "    lovecraft_words = {}\n",
    "    for id, text, author in rows:\n",
    "        if author == 'HPL':\n",
    "            for w in clean_and_split(text):\n",
    "                lovecraft_words[w] = lovecraft_words.get(w, 0) + 1\n",
    "    return poe_words, shelley_words, lovecraft_words"
   ]
  },
  {
   "cell_type": "code",
   "execution_count": 66,
   "metadata": {},
   "outputs": [],
   "source": [
    "test_main()"
   ]
  },
  {
   "cell_type": "markdown",
   "metadata": {},
   "source": [
    "#### Split loop"
   ]
  },
  {
   "cell_type": "code",
   "execution_count": 68,
   "metadata": {},
   "outputs": [],
   "source": [
    "def clean_and_split(text):\n",
    "    other_punc = '[{0}]'.format(re.escape(punc))\n",
    "    replace_hypthen = lambda t: re.sub('-', ' ', t)\n",
    "    remove_punc = lambda t: re.sub(other_punc, '', t)\n",
    "    t = replace_hypthen(text)\n",
    "    return remove_punc(t).lower().split()\n",
    "\n",
    "def get_author_words(auth_code, rows):\n",
    "    auth_words = {}\n",
    "    for id, text, author in rows:\n",
    "        if author == auth_code:\n",
    "            for w in clean_and_split(text):\n",
    "                auth_words[w] = auth_words.get(w, 0) + 1\n",
    "    return auth_words\n",
    "\n",
    "def main(rows):\n",
    "    poe_words = get_author_words('EAP', rows)\n",
    "    shelley_words = get_author_words('MWS', rows)\n",
    "    lovecraft_words = get_author_words('HPL', rows)\n",
    "    return poe_words, shelley_words, lovecraft_words"
   ]
  },
  {
   "cell_type": "code",
   "execution_count": 69,
   "metadata": {},
   "outputs": [],
   "source": [
    "test_main()"
   ]
  },
  {
   "cell_type": "markdown",
   "metadata": {},
   "source": [
    "#### Split loop"
   ]
  },
  {
   "cell_type": "code",
   "execution_count": 89,
   "metadata": {},
   "outputs": [],
   "source": [
    "def clean_and_split(text):\n",
    "    other_punc = '[{0}]'.format(re.escape(punc))\n",
    "    replace_hypthen = lambda t: re.sub('-', ' ', t)\n",
    "    remove_punc = lambda t: re.sub(other_punc, '', t)\n",
    "    t = replace_hypthen(text)\n",
    "    return remove_punc(t).lower().split()\n",
    "\n",
    "def get_author_word_tuples(rows):\n",
    "    auth_word_tuples = [(author, w) \n",
    "                        for id, text, author in rows \n",
    "                        for w in clean_and_split(text)]\n",
    "    return auth_word_tuples\n",
    "\n",
    "def count_words(rows):\n",
    "    auth_word_tuples = get_author_word_tuples(rows)\n",
    "    counts = {'EAP':{}, 'MWS':{}, 'HPL':{}}\n",
    "    for auth, word in auth_word_tuples:\n",
    "        counts[auth][word]= counts[auth].get(word, 0) + 1\n",
    "    return counts\n",
    "\n",
    "def main(rows):\n",
    "    counts = count_words(rows)\n",
    "    poe_words = counts['EAP']\n",
    "    shelley_words = counts['MWS']\n",
    "    lovecraft_words = counts['HPL']\n",
    "    return poe_words, shelley_words, lovecraft_words"
   ]
  },
  {
   "cell_type": "code",
   "execution_count": 90,
   "metadata": {},
   "outputs": [],
   "source": [
    "test_main()"
   ]
  },
  {
   "cell_type": "code",
   "execution_count": 91,
   "metadata": {
    "scrolled": true
   },
   "outputs": [
    {
     "name": "stdout",
     "output_type": "stream",
     "text": [
      "573 ms ± 5.73 ms per loop (mean ± std. dev. of 7 runs, 1 loop each)\n"
     ]
    }
   ],
   "source": [
    "%timeit main(rows)"
   ]
  },
  {
   "cell_type": "code",
   "execution_count": null,
   "metadata": {},
   "outputs": [],
   "source": []
  }
 ],
 "metadata": {
  "kernelspec": {
   "display_name": "Python 3",
   "language": "python",
   "name": "python3"
  },
  "language_info": {
   "codemirror_mode": {
    "name": "ipython",
    "version": 3
   },
   "file_extension": ".py",
   "mimetype": "text/x-python",
   "name": "python",
   "nbconvert_exporter": "python",
   "pygments_lexer": "ipython3",
   "version": "3.7.2"
  }
 },
 "nbformat": 4,
 "nbformat_minor": 2
}
